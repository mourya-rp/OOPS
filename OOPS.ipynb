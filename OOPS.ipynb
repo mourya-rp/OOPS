{
  "nbformat": 4,
  "nbformat_minor": 0,
  "metadata": {
    "colab": {
      "provenance": []
    },
    "kernelspec": {
      "name": "python3",
      "display_name": "Python 3"
    },
    "language_info": {
      "name": "python"
    }
  },
  "cells": [
    {
      "cell_type": "markdown",
      "source": [
        "# OOPS\n",
        "\n"
      ],
      "metadata": {
        "id": "S3D0Gqsd0iec"
      }
    },
    {
      "cell_type": "markdown",
      "source": [
        "1. what is object oriented programming ( OOP ) ?\n",
        "- Object-oriented programming (OOP) is a programming paradigm that uses \"objects\" to design applications and computer programs. These objects contain data (attributes or fields) and code (methods or functions) that operate on that data. OOP promotes code organization, reusability, and maintainability by structuring programs around objects and their interactions.\n",
        "\n",
        "2. What is a class in OOP ?\n",
        "-  are blueprints or templates for creating objects. They define the structure and behavior that all objects of that class will share .\n",
        "\n",
        "3. What is an object in OOP ?\n",
        "- are fundamental building blocks that represent real-world entities or concepts. They encapsulate data (properties) and behavior (methods) .\n",
        "\n",
        "4. what is the difference between abstraction and encapsulation ?\n",
        "- Abstraction and encapsulation are fundamental concepts in object-oriented programming, often confused due to their complementary nature, but they address different aspects of software design:\n",
        "\n",
        "Abstraction:\n",
        "\n",
        "Focus:\n",
        "Hiding complexity and showing only essential features.\n",
        "\n",
        "Purpose:\n",
        "To simplify the representation of a system by focusing on \"what\" an object does rather than \"how\" it does it.\n",
        "\n",
        "Implementation:\n",
        "Achieved through abstract classes, interfaces, and defining clear public interfaces for classes.\n",
        "\n",
        "Analogy:\n",
        "A car's steering wheel and pedals abstract the intricate mechanisms of driving, allowing the driver to operate the vehicle without needing to understand the engine's internal workings.\n",
        "\n",
        "Encapsulation:\n",
        "\n",
        "Focus:\n",
        "Bundling data and methods that operate on that data within a single unit (e.g., a class) and controlling access to that data.\n",
        "\n",
        "Purpose:\n",
        "To protect the internal state of an object, ensuring data integrity and preventing unauthorized access or modification.\n",
        "\n",
        "Implementation:\n",
        "Achieved through access modifiers (like private, public, protected) and providing controlled access via getter and setter methods.\n",
        "\n",
        "Analogy:\n",
        "The car engine's internal components are encapsulated within the engine block, hidden from direct manipulation and accessible only through defined interfaces like starting the engine.\n",
        "\n",
        "In summary:\n",
        "Abstraction: deals with what is exposed to the user, providing a simplified view.\n",
        "\n",
        "Encapsulation: deals with how the internal state of an object is managed and protected.\n",
        "\n",
        "Encapsulation is a mechanism that supports abstraction by hiding implementation details, while abstraction utilizes encapsulation to present a clear and simplified interface.\n",
        "\n",
        "5. What are dunder methods in Python ?\n",
        "- Dunder methods, also known as magic methods or special methods, are a core part of Python's object model. They are distinguished by their names, which begin and end with double underscores (e.g., __init__, __str__, __add__). These methods allow you to define how your custom objects interact with Python's built-in operations and functions.\n",
        "\n",
        "6. Explain the concept of inheritance in OOP ?\n",
        "- Inheritance in Object-Oriented Programming (OOP) is a fundamental concept that allows a new class, known as a child class or subclass, to inherit attributes (data) and methods (functions) from an existing class, known as a parent class or superclass. This mechanism establishes an \"is-a\" relationship between classes, meaning the child class is a more specific type of the parent class.\n",
        "\n",
        "7. What is Polymorphism in OOP ?\n",
        "- Polymorphism, in Object-Oriented Programming (OOP), is a core concept that allows objects of different classes to be treated as objects of a common superclass or interface. This enables a single interface to represent different underlying forms or behaviors, leading to more flexible and reusable code.\n",
        "\n",
        "8. how is encapsulation achieved in python ?\n",
        "- Encapsulation in Python, a core principle of Object-Oriented Programming (OOP), is achieved through conventions and mechanisms that restrict direct access to an object's internal state, promoting data integrity and controlled interaction.\n",
        "\n",
        "Key mechanisms for achieving encapsulation in Python:\n",
        "\n",
        "Classes:\n",
        "Encapsulation begins with the fundamental concept of a class, which bundles data (attributes) and the methods that operate on that data into a single, cohesive unit. This provides a clear boundary for the object's internal workings.\n",
        "\n",
        "Access Modifiers (by convention):\n",
        "Unlike some other languages, Python does not have strict keywords like private or protected. Instead, it relies on naming conventions to indicate intended access levels:\n",
        "\n",
        "Public members: Attributes and methods without any leading underscores are considered public and can be accessed directly from outside the class.\n",
        "\n",
        "Protected members: Attributes and methods prefixed with a single underscore (_) are conventionally understood to be \"protected,\" meaning they are intended for internal use within the class and its subclasses, but can still be accessed directly if desired.\n",
        "\n",
        "Private members: Attributes and methods prefixed with a double underscore (__) trigger Python's \"name mangling\" feature. This modifies the attribute name internally (e.g., __private_attr becomes _ClassName__private_attr), making it harder, but not impossible, to access directly from outside the class, thereby discouraging direct manipulation.\n",
        "\n",
        "Getter and Setter Methods (Properties):\n",
        "\n",
        "To provide controlled access to \"private\" or \"protected\" attributes, developers often implement getter and setter methods. Python's @property decorator offers a more elegant way to achieve this, allowing attributes to be accessed and modified as if they were public, while still enabling custom logic (e.g., validation) within the getter/setter methods.\n",
        "\n",
        "In essence, encapsulation in Python is a combination of:\n",
        "\n",
        "Bundling: Grouping data and methods within a class.\n",
        "\n",
        "Information Hiding (by convention and name mangling): Using naming conventions and name mangling to signal the intended accessibility of attributes and methods, discouraging direct external access to internal state.\n",
        "\n",
        "Controlled Access (through properties/methods): Providing public interfaces (methods or properties) to interact with and modify the object's internal state in a controlled and validated manner.\n",
        "\n",
        "9. what is a constructor in python ?\n",
        "- In Python, a constructor is a special method within a class that is automatically invoked when a new object (instance) of that class is created. Its primary purpose is to initialize the object's attributes and set up its initial state.\n",
        "\n",
        "10. what are class and static methods in Python ?\n",
        "- In Python, both class methods and static methods are defined within a class but differ in their access to class and instance data, and how they are invoked.\n",
        "\n",
        "Class Methods:\n",
        "\n",
        "Purpose:\n",
        "Class methods are used for operations that involve the class itself, rather than specific instances of the class. They can access and modify class-level attributes.\n",
        "\n",
        "Decorator:\n",
        "\n",
        "Defined using the @classmethod decorator.\n",
        "\n",
        "Parameter:\n",
        "\n",
        "They take cls (conventionally named) as their first parameter, which refers to the class object itself. This allows them to access and modify class variables or call other class methods.\n",
        "\n",
        "Use Cases:\n",
        "\n",
        "Common for factory methods that create new instances of the class, or for methods that operate on class-level data.\n",
        "\n",
        "Static Methods:\n",
        "\n",
        "Purpose: Static methods are essentially utility functions that are logically grouped within a class but do not need access to instance-specific or class-level attributes. They behave like regular functions but are part of the class's namespace.\n",
        "\n",
        "Decorator: Defined using the @staticmethod decorator.\n",
        "\n",
        "Parameter: They do not take self (instance) or cls (class) as their first\n",
        "parameter.\n",
        "\n",
        "Use Cases: Ideal for helper functions that perform calculations or operations related to the class's domain but don't depend on the state of any particular instance or the class itself.\n",
        "\n",
        "11. what is method overloading in Python ?\n",
        "\n",
        "- Method overloading, in the context of programming, refers to the ability to define multiple methods within the same class that share the same name but differ in their parameters (e.g., number of arguments, types of arguments). This allows a single method name to perform different actions depending on the input provided.\n",
        "\n",
        "12. What is method overriding in OOPs ?\n",
        "- Method overriding in object-oriented programming is when a subclass provides a specific implementation of a method that is already defined in its parent class. This allows a derived class to tailor the behavior of a method inherited from its parent class to suit its own specific needs\n",
        "\n",
        "13. what is a property decorator in python ?\n",
        "- In Python, the @property decorator is a built-in decorator that allows you to define methods within a class that can be accessed like attributes. It provides a way to manage attribute access (getting, setting, and deleting) with controlled logic, without requiring the user of the class to call explicit getter and setter methods.\n",
        "\n",
        "14. why is polymorphism important in OOP ?\n",
        "- Polymorphism is crucial in object-oriented programming (OOP) because it allows for flexibility, code reuse, and maintainability by enabling objects of different types to be treated as objects of a common type. This means you can write code that works with a variety of objects without needing to know their specific types at compile time, leading to more adaptable and efficient software.\n",
        "\n",
        "15. What is an abstract class in Python ?\n",
        "- An abstract class in Python is a class that cannot be instantiated directly and serves as a blueprint for other classes. It is designed to define a common interface and enforce a specific structure for its subclasses. Abstract classes achieve this by containing one or more abstract methods, which are methods declared without an implementation.\n",
        "\n",
        "16. what are the advantages of OOP ?\n",
        "-  Object-Oriented Programming (OOP) offers several advantages, including code reusability through inheritance, flexibility and maintainability through polymorphism, and enhanced security through encapsulation. OOP also promotes modularity, making it easier to organize and manage large projects, and allows for real-world modeling, which can simplify the development process.\n",
        "\n",
        "17. What is the difference between a class variable and an instance variable ?\n",
        "- The fundamental difference between a class variable and an instance variable lies in their scope, ownership, and how they are accessed and modified.\n",
        "\n",
        "Class Variable:\n",
        "A class variable is defined directly within the class but outside of any methods.\n",
        "It belongs to the class itself, not to any specific instance of the class.\n",
        "\n",
        "All instances of the class share a single copy of the class variable.\n",
        "Changes made to a class variable are reflected across all instances.\n",
        "Class variables are often used for data that is common to all instances, such as constants or shared configurations.\n",
        "\n",
        "They are typically accessed using the class name (e.g., ClassName.class_variable).\n",
        "\n",
        "Instance Variable:\n",
        "\n",
        "An instance variable is defined within the methods of a class, typically within the constructor (__init__ in Python).\n",
        "\n",
        "It belongs to a specific instance (object) of the class.\n",
        "\n",
        "Each instance of the class has its own separate copy of the instance variable.\n",
        "Changes made to an instance variable only affect that particular instance.\n",
        "Instance variables are used to store data that is unique to each individual object, such as an object's name, age, or specific attributes.\n",
        "\n",
        "They are accessed using an instance reference (e.g., object_name.instance_variable).\n",
        "\n",
        "In summary:\n",
        "\n",
        "Ownership:\n",
        "\n",
        "Class variables are owned by the class; instance variables are owned by individual objects.\n",
        "\n",
        "Sharing:\n",
        "\n",
        "Class variables are shared by all instances; instance variables are unique to each instance.\n",
        "\n",
        "Modification Impact:\n",
        "\n",
        "Modifying a class variable affects all instances; modifying an instance variable only affects that specific instance.\n",
        "\n",
        "18. What is multiple inheritance in Python ?\n",
        "- Multiple inheritance in Python is a feature where a class can inherit attributes and methods from more than one parent (or base) class. This allows a derived class to combine functionalities and characteristics from multiple sources, effectively creating a new class that incorporates the behaviors of all its parent classes.\n",
        "\n",
        "19. Explain the purpose of __str__ and __repr__ methods in Python ?\n",
        "- In Python, __str__ and __repr__ are special methods (also known as \"dunder methods\") used to define how an object is represented as a string. They serve different purposes and are intended for different audiences.\n",
        "__str__ (for \"string\"): This method returns a \"user-friendly\" or \"readable\" string representation of an object. Its primary purpose is to provide a human-readable output, suitable for display to end-users, logging, or printing. When you use print() or str() on an object, Python typically calls its __str__ method.\n",
        "\n",
        "Python\n",
        "\n",
        "    class Book:\n",
        "        def __init__(self, title, author):\n",
        "            self.title = title\n",
        "            self.author = author\n",
        "\n",
        "        def __str__(self):\n",
        "            return f\"{self.title} by {self.author}\"\n",
        "\n",
        "    book = Book(\"The Great Gatsby\", \"F. Scott Fitzgerald\")\n",
        "    print(book) # Output: The Great Gatsby by F. Scott Fitzgerald\n",
        "\n",
        "__repr__ (for \"representation\"):\n",
        "This method returns an \"unambiguous\" or \"developer-friendly\" string representation of an object. Its purpose is to provide a detailed and often reconstructible representation, primarily for debugging and development. The output of __repr__ should ideally be a valid Python expression that could recreate the object. When you use repr() or inspect an object in an interactive interpreter (without explicitly calling print()), Python calls its __repr__ method. If __str__ is not defined for a class, __repr__ will be used as a fallback for print() and str().\n",
        "\n",
        "Python\n",
        "\n",
        "    class Book:\n",
        "        def __init__(self, title, author):\n",
        "            self.title = title\n",
        "            self.author = author\n",
        "\n",
        "        def __repr__(self):\n",
        "            return f\"Book(title='{self.title}', author='{self.author}')\"\n",
        "\n",
        "    book = Book(\"1984\", \"George Orwell\")\n",
        "    print(repr(book)) # Output: Book(title='1984', author='George Orwell')\n",
        "\n",
        "In summary, __str__ focuses on readability for users, while __repr__ emphasizes unambiguity and detail for developers. It is generally recommended to implement both methods for your custom classes.\n",
        "\n",
        "20. What is the significance of the __super()' function in Python ?\n",
        "- The super() function in Python holds significant importance in object-oriented programming, particularly when dealing with inheritance. Its primary significance lies in facilitating proper interaction between parent and child classes within an inheritance hierarchy.\n",
        "\n",
        "21. what is the significance of __del__method in python ?\n",
        "- The __del__ method in Python, often referred to as a destructor, holds significance primarily in resource management and cleanup operations.\n",
        "\n",
        "22. What is the difference between @staticmethod and @classmethod in Python ?\n",
        "- The core difference between @staticmethod and @classmethod in Python lies in their access to the class and instance state:\n",
        "\n",
        "@staticmethod\n",
        "\n",
        "No implicit first argument:\n",
        "A static method does not receive any implicit first argument (like self for instance methods or cls for class methods).\n",
        "No access to class or instance state:\n",
        "\n",
        "It cannot access or modify class-level attributes or instance-level attributes.\n",
        "\n",
        "Utility functions:\n",
        "\n",
        "Static methods are typically used for utility functions that are logically related to the class but do not depend on the class's state or any specific instance. They behave like regular functions defined within the class's namespace.\n",
        "\n",
        "@classmethod\n",
        "\n",
        "Implicit cls argument: A class method receives the class itself as its first implicit argument, conventionally named cls.\n",
        "\n",
        "Access to class state: It can access and modify class-level attributes using the cls argument.\n",
        "\n",
        "Factory methods and alternative constructors: Class methods are commonly used to create factory methods or alternative constructors that return instances of the class, often based on different input parameters or internal logic.\n",
        "They are particularly useful when dealing with inheritance, as they ensure the correct class (base or derived) is used for instantiation.\n",
        "\n",
        "23. How does Polymorphism work in python with inheritance ?\n",
        "- Polymorphism in Python, particularly in conjunction with inheritance, allows objects of different classes to be treated as objects of a common base class, while still exhibiting their specific behaviors. This is primarily achieved through method overriding.\n",
        "\n",
        "Here's how it works:\n",
        "\n",
        "Inheritance Hierarchy:\n",
        "You establish an inheritance relationship where one or more subclasses inherit from a superclass. The superclass defines a method (or methods) that the subclasses can then choose to implement.\n",
        "\n",
        "Method Overriding:\n",
        "\n",
        "Subclasses can provide their own distinct implementation of a method that is already defined in their superclass. This is known as method overriding. When you call this method on an object of a subclass, Python executes the subclass's specific implementation rather than the superclass's.\n",
        "\n",
        "Dynamic Binding (Late Binding):\n",
        "Python determines which method to call at runtime, based on the actual type of the object, not the type of the variable holding the object. This is crucial for polymorphism. If you have a list or collection containing objects of different subclasses, and you call a common method on each object, each object will execute its own overridden version of that method.\n",
        "\n",
        "24. what is method chaining in Python OOP ?\n",
        "- Method chaining in Python Object-Oriented Programming (OOP) is a technique that allows for the sequential invocation of multiple methods on the same object within a single line of code. This is achieved by having each method in the chain return the object itself (typically self) after performing its action.\n",
        "\n",
        "25. what is the purpose of the __call__ method in Python ?\n",
        "- The __call__ method in Python allows instances of a class to be invoked or called as if they were regular functions. When this method is defined within a class, calling an object of that class (e.g., my_object()) automatically triggers the execution of the __call__ method.\n",
        "\n",
        "\n",
        "\n",
        "\n",
        "\n",
        "\n",
        "\n"
      ],
      "metadata": {
        "id": "imZGLbyh1WGu"
      }
    },
    {
      "cell_type": "code",
      "source": [
        "#1 Create a parent class Animal with a method speak () that prints a generic message . create a child class Dog that overrides the speak() method to print \"Bark!\"\n",
        "class Animal:\n",
        "    def speak(self):\n",
        "        print(\"Generic animal sound\")\n",
        "\n",
        "class Dog(Animal):\n",
        "    def speak(self):\n",
        "        print(\"Bark!\")"
      ],
      "metadata": {
        "id": "IO8PbYJVg0_q"
      },
      "execution_count": 1,
      "outputs": []
    },
    {
      "cell_type": "code",
      "source": [
        "a= Dog()\n",
        "a.speak()"
      ],
      "metadata": {
        "colab": {
          "base_uri": "https://localhost:8080/"
        },
        "id": "eu6OxNJng09F",
        "outputId": "788cd9f0-435b-49ff-b5fb-0b96c7b2c56c"
      },
      "execution_count": 9,
      "outputs": [
        {
          "output_type": "stream",
          "name": "stdout",
          "text": [
            "Bark!\n"
          ]
        }
      ]
    },
    {
      "cell_type": "code",
      "source": [
        "# 2.  Write a program to create a abstract class shape with a method area () . Derive classes circle and Rectangle from it and implement the area() method in both.\n",
        "from abc import ABC, abstractmethod\n",
        "\n",
        "class Shape(ABC):\n",
        "    @abstractmethod\n",
        "    def area(self):\n",
        "        pass\n",
        "class Circle(Shape):\n",
        "    def __init__(self, radius):\n",
        "        self.radius = radius\n",
        "\n",
        "    def area(self):\n",
        "        return 3.14 * self.radius ** 2\n",
        "class Rectangle(Shape):\n",
        "    def __init__(self, length, width):\n",
        "        self.length = length\n",
        "        self.width = width\n",
        "\n",
        "    def area(self):\n",
        "        return self.length * self.width"
      ],
      "metadata": {
        "id": "odqfNSyOg02L"
      },
      "execution_count": 10,
      "outputs": []
    },
    {
      "cell_type": "code",
      "source": [
        "#3. Implement a multilevel inheritance scenario where a class Vehicle has an attribute type . Derive a class car and further derive a class Electric car that derive a battery unit.\n",
        "class Vehicle:\n",
        "    def __init__(self, vehicle_type):\n",
        "        self.vehicle_type = vehicle_type\n",
        "class Car(Vehicle):\n",
        "    def __init__(self, car_type):\n",
        "        super().__init__(\"Car\")\n",
        "        self.car_type = car_type\n",
        "class ElectricCar(Car):\n",
        "    def __init__(self, battery_type):\n",
        "        super().__init__(\"Electric\")\n",
        "        self.battery_type = battery_type"
      ],
      "metadata": {
        "id": "5dWfyNr-g0zJ"
      },
      "execution_count": 11,
      "outputs": []
    },
    {
      "cell_type": "code",
      "source": [
        "#4. Demonstrate polymorphism by creating a base class Bird with a method fly() . Create two derived classes sparrow and penguin that override the fly() method .\n",
        "class Bird:\n",
        "    def fly(self):\n",
        "        print(\"Birds can fly\")\n",
        "class Sparrow(Bird):\n",
        "    def fly(self):\n",
        "        print(\"Sparrows can fly\")\n",
        "class Penguin(Bird):\n",
        "    def fly(self):\n",
        "        print(\"Penguins cannot fly\")\n"
      ],
      "metadata": {
        "id": "6mPjoKsvg0wD"
      },
      "execution_count": 12,
      "outputs": []
    },
    {
      "cell_type": "code",
      "source": [
        "a=Bird()\n",
        "a.fly()\n",
        "b=Sparrow()\n",
        "b.fly()\n",
        "c=Penguin()\n",
        "c.fly()"
      ],
      "metadata": {
        "colab": {
          "base_uri": "https://localhost:8080/"
        },
        "id": "Tx_2yolNg0sy",
        "outputId": "5ee9dea9-fbaf-4d7b-a5f6-970411aea3ed"
      },
      "execution_count": 15,
      "outputs": [
        {
          "output_type": "stream",
          "name": "stdout",
          "text": [
            "Birds can fly\n",
            "Sparrows can fly\n",
            "Penguins cannot fly\n"
          ]
        }
      ]
    },
    {
      "cell_type": "code",
      "source": [
        "#5. Write a program to demonstrate encapsulation by creating a class BankAccount with private attributes balance and methods to deposit , withdraw and check balance\n",
        "class BankAccount:\n",
        "    def __init__(self, balance=0):\n",
        "        self.__balance = balance\n",
        "    def deposit(self, amount):\n",
        "        self.__balance += amount\n",
        "    def withdraw(self, amount):\n",
        "        if amount <= self.__balance:\n",
        "            self.__balance -= amount\n",
        "        else:\n",
        "            print(\"Insufficient balance\")\n"
      ],
      "metadata": {
        "id": "R0YFFP7Wg0pw"
      },
      "execution_count": 16,
      "outputs": []
    },
    {
      "cell_type": "code",
      "source": [
        "#6. Demonstrate runtime polymorphism using a method play () in a base class instrument . Derive class Guitar and Piano that implement their own version of play.\n",
        "class Instrument:\n",
        "    def play(self):\n",
        "        pass\n",
        "class Guitar(Instrument):\n",
        "    def play(self):\n",
        "        print(\"Playing guitar\")\n",
        "class Piano(Instrument):\n",
        "    def play(self):\n",
        "        print(\"Playing piano\")"
      ],
      "metadata": {
        "id": "8peaE0O_g0m4"
      },
      "execution_count": 17,
      "outputs": []
    },
    {
      "cell_type": "code",
      "source": [
        "a=Instrument()\n",
        "a.play()\n",
        "b=Guitar()\n",
        "b.play()\n",
        "c=Piano()\n",
        "c.play()"
      ],
      "metadata": {
        "colab": {
          "base_uri": "https://localhost:8080/"
        },
        "id": "u5ShPzNQg0j7",
        "outputId": "4c566d3f-a8a4-425b-8644-7d8ded10bb72"
      },
      "execution_count": 20,
      "outputs": [
        {
          "output_type": "stream",
          "name": "stdout",
          "text": [
            "Playing guitar\n",
            "Playing piano\n"
          ]
        }
      ]
    },
    {
      "cell_type": "code",
      "source": [
        "#7. Create a class MathOperations with a class method add-numbers() to add two numbers and a static method subtract_numbers to subtract two numbers\n",
        "class MathOperations:\n",
        "   def add_numbers(a,b):\n",
        "        return a+b\n",
        "   def subtract_numbers(a,b):\n",
        "        return a-b"
      ],
      "metadata": {
        "id": "gr3W9theg0hI"
      },
      "execution_count": 26,
      "outputs": []
    },
    {
      "cell_type": "code",
      "source": [
        "a=MathOperations\n",
        "a.add_numbers(2,3)"
      ],
      "metadata": {
        "colab": {
          "base_uri": "https://localhost:8080/"
        },
        "id": "7wYHjgoeg0ed",
        "outputId": "38f5046d-862c-4028-d304-7c6b44765de9"
      },
      "execution_count": 28,
      "outputs": [
        {
          "output_type": "execute_result",
          "data": {
            "text/plain": [
              "5"
            ]
          },
          "metadata": {},
          "execution_count": 28
        }
      ]
    },
    {
      "cell_type": "code",
      "source": [
        "#8. Implement a class Person with class method to count the total number of persons created.\n",
        "class Person:\n",
        "    count = 0\n",
        "    def __init__(self):\n",
        "        Person.count += 1\n",
        "    @classmethod\n",
        "    def get_count(cls):\n",
        "        return cls.count"
      ],
      "metadata": {
        "id": "ZIPSvf6Og0cG"
      },
      "execution_count": 29,
      "outputs": []
    },
    {
      "cell_type": "code",
      "source": [
        "#9. Write a class Fraction with attributes numerator and denominator . Override the str method to display the fraction as \"numerator/denominator\"\n",
        "class Fraction:\n",
        "    def __init__(self, numerator, denominator):\n",
        "        self.numerator = numerator\n",
        "        self.denominator = denominator\n",
        "    def __str__(self):\n",
        "        return f\"{self.numerator}/{self.denominator}\""
      ],
      "metadata": {
        "id": "AblTQ2Iog0Zg"
      },
      "execution_count": 30,
      "outputs": []
    },
    {
      "cell_type": "code",
      "source": [
        "#10. Demonstrate operator overloading by creating a class and overriding the add method to add two vectors .\n",
        "class Vector:\n",
        "    def __init__(self, x, y):\n",
        "        self.x = x\n",
        "        self.y = y\n",
        "    def __add__(self, other):\n",
        "        return Vector(self.x + other.x, self.y + other.y)\n"
      ],
      "metadata": {
        "id": "Ca2mPpt1g0W5"
      },
      "execution_count": 31,
      "outputs": []
    },
    {
      "cell_type": "code",
      "source": [
        "#11. Create a class Person with attributes name and age .Add a method greet() that prints \" Hello, my name is { } and Iam { } years old \"\\\n",
        "class Person:\n",
        "    def __init__(self, name, age):\n",
        "        self.name = name\n",
        "        self.age = age\n",
        "    def greet(self):\n",
        "        print(f\"Hello, my name is {self.name} and I am {self.age} years old\")"
      ],
      "metadata": {
        "id": "jwsI8Jokg0US"
      },
      "execution_count": 36,
      "outputs": []
    },
    {
      "cell_type": "code",
      "source": [
        "Person(\"a\",23).greet()"
      ],
      "metadata": {
        "colab": {
          "base_uri": "https://localhost:8080/"
        },
        "id": "c7jV3UBLg0Rs",
        "outputId": "f703556c-3a96-4987-8d84-bb12fa3d003a"
      },
      "execution_count": 37,
      "outputs": [
        {
          "output_type": "stream",
          "name": "stdout",
          "text": [
            "Hello, my name is a and I am 23 years old\n"
          ]
        }
      ]
    },
    {
      "cell_type": "code",
      "source": [
        "#12. Implement a class student with attributes name and grades . Create a method average_grade() to compute the average of the grades .\n",
        "class Student:\n",
        "    def __init__(self, name, grades):\n",
        "        self.name = name\n",
        "        self.grades = grades\n",
        "    def average_grade(self):\n",
        "        return sum(self.grades) / len(self.grades)"
      ],
      "metadata": {
        "id": "Fk9a3fQwg0PF"
      },
      "execution_count": 38,
      "outputs": []
    },
    {
      "cell_type": "code",
      "source": [
        "a=Student(\"a\",[1,2,3])\n",
        "a.average_grade()"
      ],
      "metadata": {
        "colab": {
          "base_uri": "https://localhost:8080/"
        },
        "id": "xx9rOlPBg0MU",
        "outputId": "54a42c13-cf85-4cc7-d884-dfa6cc8e8a92"
      },
      "execution_count": 39,
      "outputs": [
        {
          "output_type": "execute_result",
          "data": {
            "text/plain": [
              "2.0"
            ]
          },
          "metadata": {},
          "execution_count": 39
        }
      ]
    },
    {
      "cell_type": "code",
      "source": [
        "#13. Create a class rectangle with methods set_dimensions() to set the dimensions and area() to calculate the area\n",
        "class Rectangle:\n",
        "    def __init__(self, length, width):\n",
        "        self.length = length\n",
        "        self.width = width\n",
        "    def set_dimensions(self, length, width):\n",
        "        self.length = length\n",
        "        self.width = width\n",
        "    def area(self):\n",
        "        return self.length * self.width"
      ],
      "metadata": {
        "id": "ua_6sxsig0JX"
      },
      "execution_count": 41,
      "outputs": []
    },
    {
      "cell_type": "code",
      "source": [
        "area=Rectangle(2,3)\n",
        "area.area()"
      ],
      "metadata": {
        "colab": {
          "base_uri": "https://localhost:8080/"
        },
        "id": "ALKy9gxPg0Go",
        "outputId": "de31941b-f1ae-499f-937e-5332ae3161c6"
      },
      "execution_count": 42,
      "outputs": [
        {
          "output_type": "execute_result",
          "data": {
            "text/plain": [
              "6"
            ]
          },
          "metadata": {},
          "execution_count": 42
        }
      ]
    },
    {
      "cell_type": "code",
      "source": [
        "#14. Create a class Employee with a method calculate_salary() that computes the salary based on hours worked and hourly rate . Create a derived class Manager that adds a bonus to the salary.\n",
        "class Employee:\n",
        "    def __init__(self, name, hours_worked, hourly_rate):\n",
        "        self.name = name\n",
        "        self.hours_worked = hours_worked\n",
        "        self.hourly_rate = hourly_rate\n",
        "\n",
        "    def calculate_salary(self):\n",
        "        return self.hours_worked * self.hourly_rate\n",
        "class Manager(Employee):\n",
        "    def __init__(self, name, hours_worked, hourly_rate, bonus):\n",
        "        super().__init__(name, hours_worked, hourly_rate)\n",
        "        self.bonus = bonus"
      ],
      "metadata": {
        "id": "ZgP4X8Kngz95"
      },
      "execution_count": 43,
      "outputs": []
    },
    {
      "cell_type": "code",
      "source": [
        "a=Employee(\"a\",2,3)\n",
        "a.calculate_salary()\n"
      ],
      "metadata": {
        "colab": {
          "base_uri": "https://localhost:8080/"
        },
        "id": "7sq5PsEQgzHP",
        "outputId": "65f420a6-daad-45f3-b4d2-3e62c0d40d4c"
      },
      "execution_count": 44,
      "outputs": [
        {
          "output_type": "execute_result",
          "data": {
            "text/plain": [
              "6"
            ]
          },
          "metadata": {},
          "execution_count": 44
        }
      ]
    },
    {
      "cell_type": "code",
      "source": [
        "#16. Create a Class Animal with an absract method sound () . Create two derived classes cow and sheep that implement the sound() method.\n",
        "class Animal:\n",
        "    def sound(self):\n",
        "        pass\n",
        "class Cow(Animal):\n",
        "    def sound(self):\n",
        "        print(\"Moo\")\n",
        "class Sheep(Animal):\n",
        "    def sound(self):\n",
        "        print(\"Baa\")"
      ],
      "metadata": {
        "id": "V_HOA6B6wEb5"
      },
      "execution_count": 46,
      "outputs": []
    },
    {
      "cell_type": "code",
      "source": [
        "sheep1=Sheep()\n",
        "sheep1.sound()"
      ],
      "metadata": {
        "colab": {
          "base_uri": "https://localhost:8080/"
        },
        "id": "z8cLfxKEwlcJ",
        "outputId": "20b96484-6e2f-4ed7-f77e-ed2054b51d29"
      },
      "execution_count": 47,
      "outputs": [
        {
          "output_type": "stream",
          "name": "stdout",
          "text": [
            "Baa\n"
          ]
        }
      ]
    }
  ]
}